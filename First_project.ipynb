{
  "metadata": {
    "language_info": {
      "codemirror_mode": {
        "name": "python",
        "version": 3
      },
      "file_extension": ".py",
      "mimetype": "text/x-python",
      "name": "python",
      "nbconvert_exporter": "python",
      "pygments_lexer": "ipython3",
      "version": "3.8"
    },
    "kernelspec": {
      "name": "python",
      "display_name": "Pyolite",
      "language": "python"
    }
  },
  "nbformat_minor": 4,
  "nbformat": 4,
  "cells": [
    {
      "cell_type": "markdown",
      "source": "# My Jupyter Notebook on IBM Watson Studio",
      "metadata": {
        "tags": []
      }
    },
    {
      "cell_type": "markdown",
      "source": "**Erin Jones**  \nData Analyst ",
      "metadata": {}
    },
    {
      "cell_type": "markdown",
      "source": "*I'm interested in data science, specifically data analysis because I got to experiment with it in my research at University.*",
      "metadata": {}
    },
    {
      "cell_type": "markdown",
      "source": "### In the following cell, two numbers will be multiplied",
      "metadata": {}
    },
    {
      "cell_type": "code",
      "source": "print(5 * 3) ",
      "metadata": {
        "trusted": true
      },
      "execution_count": 4,
      "outputs": [
        {
          "name": "stdout",
          "text": "15\n",
          "output_type": "stream"
        }
      ]
    },
    {
      "cell_type": "markdown",
      "source": "|Subject|Grade|\n|---|---|\n|Math| B|\n|Science| A|\n|History| A|\n|PE| B|\n",
      "metadata": {
        "jp-MarkdownHeadingCollapsed": true,
        "tags": []
      }
    }
  ]
}